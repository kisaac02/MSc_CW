{
  "nbformat": 4,
  "nbformat_minor": 0,
  "metadata": {
    "colab": {
      "provenance": [],
      "collapsed_sections": [
        "KraHG-h1x7lA",
        "yhwTldzdpeCg",
        "2fRk7CjxjEAw",
        "lHycQ_PdfdLE",
        "dYV_z8jHfWrS"
      ]
    },
    "kernelspec": {
      "display_name": "Python 3",
      "name": "python3"
    }
  },
  "cells": [
    {
      "cell_type": "markdown",
      "metadata": {
        "id": "KraHG-h1x7lA"
      },
      "source": [
        "# Import Data"
      ]
    },
    {
      "cell_type": "code",
      "metadata": {
        "id": "EVK6Y_qUx6or"
      },
      "source": [
        "from numpy.random import seed\n",
        "seed(7)\n",
        "\n",
        "import numpy as np\n",
        "import pandas as pd\n",
        "from matplotlib import pyplot\n",
        "  \n",
        "#import training data\n",
        "def import_data(path):\n",
        "  data = pd.read_csv(path,delimiter=',')\n",
        "  array = data.values\n",
        "  X = array[:,0:152]\n",
        "  Y = array[:,152]\n",
        "  return X,Y\n"
      ],
      "execution_count": null,
      "outputs": []
    },
    {
      "cell_type": "markdown",
      "metadata": {
        "id": "yhwTldzdpeCg"
      },
      "source": [
        "# Data Preprocessing\n",
        "I can use these separately or build preprocessing into pipeline"
      ]
    },
    {
      "cell_type": "code",
      "metadata": {
        "id": "Iyde1ew5reTO"
      },
      "source": [
        "def scalar(X):\n",
        "  from sklearn.preprocessing import MinMaxScaler\n",
        "  scaler = MinMaxScaler(feature_range=(0, 1))\n",
        "  X_rescaled = pd.DataFrame(data=scaler.fit_transform(X))\n",
        "  return X_rescaled"
      ],
      "execution_count": null,
      "outputs": []
    },
    {
      "cell_type": "code",
      "metadata": {
        "id": "XSKHaCKnNKGR"
      },
      "source": [
        "def standardise(X):\n",
        "  from sklearn.preprocessing import StandardScaler\n",
        "  X_standard = pd.DataFrame(StandardScaler().fit_transform(X))\n",
        "  return X_standard"
      ],
      "execution_count": null,
      "outputs": []
    },
    {
      "cell_type": "markdown",
      "metadata": {
        "id": "aH9tRqlZp70l"
      },
      "source": [
        "# Feature Extraction\n"
      ]
    },
    {
      "cell_type": "code",
      "metadata": {
        "colab": {
          "base_uri": "https://localhost:8080/"
        },
        "id": "hRbqslL4p4tE",
        "outputId": "f1179002-c36c-46c5-98e8-495f2fe8583e"
      },
      "source": [
        "#sparse autoencoder with grid search\n",
        "\n",
        "import matplotlib.pyplot as plt\n",
        "import pandas as pd\n",
        "import numpy as np\n",
        "import seaborn as sns\n",
        "import warnings\n",
        "warnings.filterwarnings('ignore')\n",
        "\n",
        "from __future__ import print_function\n",
        "from keras.models import Model\n",
        "from keras.layers import Dense, Input\n",
        "from keras.regularizers import l1\n",
        "from keras.regularizers import l2\n",
        "from keras.optimizers import Adam\n",
        "from keras.wrappers.scikit_learn import KerasRegressor\n",
        "from sklearn.model_selection import GridSearchCV\n",
        "from sklearn.pipeline import Pipeline\n",
        "from sklearn.preprocessing import MinMaxScaler\n",
        "from sklearn.model_selection import KFold\n",
        "\n",
        "#activity regularizer = sparse. does it go in all layers?\n",
        "#sparse means uses less nodes so do I need to use more nodes?\n",
        "def create_autoencoder(activation='relu', code_size = 10, hidden_size=100, kernel_initializer='he_uniform', reg=l1(0.001)):\n",
        "  input_size = 152 #number of variables\n",
        "  input_layer = Input(shape=(input_size,))\n",
        "  hidden_1 = Dense(hidden_size, activation=activation, kernel_initializer=kernel_initializer, activity_regularizer=reg)(input_layer)\n",
        "  code = Dense(code_size, activation=activation,kernel_initializer=kernel_initializer, activity_regularizer=reg)(hidden_1)\n",
        "  hidden_2 = Dense(hidden_size, activation=activation,kernel_initializer=kernel_initializer, activity_regularizer=reg)(code)\n",
        "  output_layer = Dense(input_size, activation='sigmoid')(hidden_2)\n",
        "  autoencoder_regularized = Model(input_layer, output_layer)\n",
        "  autoencoder_regularized.compile(optimizer='adam',loss='mean_squared_error') #other optimizer and loss function\n",
        "  return autoencoder_regularized\n",
        "\n",
        "param_grid = {\n",
        "    'ae__hidden_size': [50, 100],\n",
        "    'ae__code_size': [10, 50]\n",
        "    #'ae__activation':['relu', 'tanh']\n",
        "    #'ae__kernel_initializer': ['glorot_uniform','normal','uniform','he_uniform'],\n",
        "    #'ae__reg': [l1(0.001), l2(0.001), l1(10e-6), l2(10e-6)]\n",
        "    #'ae__epochs': [10, 15, 20],\n",
        "    #'ae__batch_size':[10, 20, 30]\n",
        "    #'ae__optimizer':['RMSprop', 'Adam', 'Adamax', 'sgd'],\n",
        "}\n",
        "\n",
        "X_train, Y_train = import_data('/content/train_imperson_without4n7_balanced_data.csv')\n",
        "\n",
        "autoencoder = KerasRegressor(build_fn = create_autoencoder, verbose=0)\n",
        "steps = []\n",
        "steps.append(('scaler', MinMaxScaler(feature_range=(0, 1))))\n",
        "steps.append(('ae', autoencoder))\n",
        "pipeline = Pipeline(steps=steps)\n",
        "\n",
        "random_state = 7\n",
        "kfold = KFold(n_splits=10, shuffle=True, random_state=random_state)\n",
        "\n",
        "grid = GridSearchCV(estimator=pipeline,param_grid=param_grid, cv = kfold, scoring = 'neg_mean_squared_error', n_jobs=-1)\n",
        "grid_result = grid.fit(X_train,X_train)\n",
        "\n",
        "#summarize results\n",
        "print(\"Best: %f using %s\" % (grid_result.best_score_,grid_result.best_params_))\n",
        "means = grid_result.cv_results_['mean_test_score']\n",
        "stds = grid_result.cv_results_['std_test_score']\n",
        "params = grid_result.cv_results_['params']\n",
        "for mean, stdev, param in zip(means,stds,params):\n",
        "  print(\"%f (%f) with: %r\" % (mean,stdev,param))\n"
      ],
      "execution_count": null,
      "outputs": [
        {
          "output_type": "stream",
          "text": [
            "(97044, 153)\n",
            "Best: -0.000144 using {'ae__code_size': 50, 'ae__hidden_size': 100}\n",
            "-0.000409 (0.000074) with: {'ae__code_size': 10, 'ae__hidden_size': 50}\n",
            "-0.000298 (0.000033) with: {'ae__code_size': 10, 'ae__hidden_size': 100}\n",
            "-0.000263 (0.000020) with: {'ae__code_size': 50, 'ae__hidden_size': 50}\n",
            "-0.000144 (0.000018) with: {'ae__code_size': 50, 'ae__hidden_size': 100}\n"
          ],
          "name": "stdout"
        }
      ]
    },
    {
      "cell_type": "code",
      "metadata": {
        "id": "INE32zDuTPfM"
      },
      "source": [
        "def best_ae(X):\n",
        "  activation='relu'\n",
        "  code_size = 10\n",
        "  hidden_size = 100\n",
        "  input_size = 152 #number of variables\n",
        "  epochs = 5\n",
        "  batch_size = 10\n",
        "  kernel_initializer='he_uniform'\n",
        "\n",
        "  input_layer = Input(shape=(input_size,))\n",
        "  hidden_1 = Dense(hidden_size, activation=activation, kernel_initializer=kernel_initializer, activity_regularizer=l1(0.001))(input_layer)\n",
        "  code = Dense(code_size, activation=activation,kernel_initializer=kernel_initializer, activity_regularizer=l1(0.001))(hidden_1)\n",
        "  hidden_2 = Dense(hidden_size, activation=activation,kernel_initializer=kernel_initializer, activity_regularizer=l1(0.001))(code)\n",
        "  output_layer = Dense(input_size, activation='sigmoid')(hidden_2)\n",
        "\n",
        "  autoencoder_regularized = Model(input_layer, output_layer)\n",
        "  autoencoder_regularized.compile(optimizer='adam',loss='mean_squared_error') #other optimizer and loss function\n",
        "  history_regularized = autoencoder_regularized.fit(X, X, epochs=epochs, batch_size = batch_size, validation_split = 0.2, verbose = 0)\n",
        "\n",
        "  encoder_regularized = Model(input_layer, code)\n",
        "\n",
        "  ae_features = pd.DataFrame(encoder_regularized.predict(X))\n",
        "  return ae_features"
      ],
      "execution_count": null,
      "outputs": []
    },
    {
      "cell_type": "markdown",
      "metadata": {
        "id": "IKrvB1zSqB6q"
      },
      "source": [
        "**Combine extracted featured combined with original features**\n",
        "Features from autoencoder code aren't scaled like the input to the autoencoder\n"
      ]
    },
    {
      "cell_type": "code",
      "metadata": {
        "id": "jCB-HyElKOs1"
      },
      "source": [
        "X_train, Y_train = import_data('/content/train_imperson_without4n7_balanced_data.csv')\n",
        "X_train_scaled = scalar(X_train)\n",
        "autoencoder_features = best_ae(X_train_scaled)\n",
        "X_train_combine =  pd.concat([pd.DataFrame(X_train), autoencoder_features], axis=1)  "
      ],
      "execution_count": null,
      "outputs": []
    },
    {
      "cell_type": "markdown",
      "metadata": {
        "id": "2fRk7CjxjEAw"
      },
      "source": [
        "# Feature selection methods\n"
      ]
    },
    {
      "cell_type": "markdown",
      "metadata": {
        "id": "lHycQ_PdfdLE"
      },
      "source": [
        "## Extra Trees Feature Importance"
      ]
    },
    {
      "cell_type": "code",
      "metadata": {
        "colab": {
          "base_uri": "https://localhost:8080/",
          "height": 1000
        },
        "id": "tjMkiOlTRSQd",
        "outputId": "9ce88579-3ecb-4bd2-966c-775c32e1e4e3"
      },
      "source": [
        "from sklearn.ensemble import ExtraTreesClassifier\n",
        "from matplotlib import pyplot\n",
        "\n",
        "#scaling not needed\n",
        "# define the model\n",
        "model = ExtraTreesClassifier()\n",
        "# fit the model.\n",
        "model.fit(X_train_combine, Y_train)\n",
        "# get importance\n",
        "importance = model.feature_importances_\n",
        "# summarize feature importance\n",
        "mylist = []\n",
        "irrel_features = 0\n",
        "for i,j in enumerate(importance):\n",
        "  if j > 0:\n",
        "    mylist.append((i,j))   \n",
        "  else:\n",
        "    irrel_features+=1\n",
        "sorted_list = sorted(mylist, key=lambda x: x[1], reverse=True)\n",
        "\n",
        "print(\"Number of irrelevent features: \"+str(irrel_features))\n",
        "for i in range(0,len(sorted_list)):\n",
        "  print('No: %0d, Feature: %0d, Score: %.5f' % (i+1,sorted_list[i][0],sorted_list[i][1]))\n",
        "\n",
        "pyplot.bar([x for x in range(len(importance))], importance)\n",
        "pyplot.show()"
      ],
      "execution_count": null,
      "outputs": [
        {
          "output_type": "stream",
          "text": [
            "Number of irrelevent features: 75\n",
            "No: 1, Feature: 48, Score: 0.09392\n",
            "No: 2, Feature: 64, Score: 0.08686\n",
            "No: 3, Feature: 70, Score: 0.06530\n",
            "No: 4, Feature: 47, Score: 0.06192\n",
            "No: 5, Feature: 65, Score: 0.05364\n",
            "No: 6, Feature: 44, Score: 0.05260\n",
            "No: 7, Feature: 68, Score: 0.05211\n",
            "No: 8, Feature: 6, Score: 0.04436\n",
            "No: 9, Feature: 79, Score: 0.03782\n",
            "No: 10, Feature: 61, Score: 0.02979\n",
            "No: 11, Feature: 156, Score: 0.02975\n",
            "No: 12, Feature: 158, Score: 0.02694\n",
            "No: 13, Feature: 35, Score: 0.02414\n",
            "No: 14, Feature: 63, Score: 0.02365\n",
            "No: 15, Feature: 153, Score: 0.02208\n",
            "No: 16, Feature: 151, Score: 0.02182\n",
            "No: 17, Feature: 157, Score: 0.02051\n",
            "No: 18, Feature: 5, Score: 0.02017\n",
            "No: 19, Feature: 155, Score: 0.01297\n",
            "No: 20, Feature: 107, Score: 0.01274\n",
            "No: 21, Feature: 142, Score: 0.01251\n",
            "No: 22, Feature: 161, Score: 0.01197\n",
            "No: 23, Feature: 143, Score: 0.01156\n",
            "No: 24, Feature: 95, Score: 0.01085\n",
            "No: 25, Feature: 67, Score: 0.01047\n",
            "No: 26, Feature: 105, Score: 0.00974\n",
            "No: 27, Feature: 152, Score: 0.00961\n",
            "No: 28, Feature: 139, Score: 0.00961\n",
            "No: 29, Feature: 159, Score: 0.00943\n",
            "No: 30, Feature: 119, Score: 0.00914\n",
            "No: 31, Feature: 137, Score: 0.00856\n",
            "No: 32, Feature: 87, Score: 0.00838\n",
            "No: 33, Feature: 76, Score: 0.00821\n",
            "No: 34, Feature: 91, Score: 0.00687\n",
            "No: 35, Feature: 115, Score: 0.00681\n",
            "No: 36, Feature: 77, Score: 0.00638\n",
            "No: 37, Feature: 74, Score: 0.00598\n",
            "No: 38, Feature: 104, Score: 0.00550\n",
            "No: 39, Feature: 117, Score: 0.00496\n",
            "No: 40, Feature: 58, Score: 0.00435\n",
            "No: 41, Feature: 126, Score: 0.00420\n",
            "No: 42, Feature: 138, Score: 0.00355\n",
            "No: 43, Feature: 123, Score: 0.00298\n",
            "No: 44, Feature: 72, Score: 0.00270\n",
            "No: 45, Feature: 140, Score: 0.00261\n",
            "No: 46, Feature: 127, Score: 0.00256\n",
            "No: 47, Feature: 90, Score: 0.00243\n",
            "No: 48, Feature: 125, Score: 0.00239\n",
            "No: 49, Feature: 75, Score: 0.00211\n",
            "No: 50, Feature: 124, Score: 0.00210\n",
            "No: 51, Feature: 160, Score: 0.00188\n",
            "No: 52, Feature: 154, Score: 0.00149\n",
            "No: 53, Feature: 73, Score: 0.00128\n",
            "No: 54, Feature: 118, Score: 0.00094\n",
            "No: 55, Feature: 116, Score: 0.00085\n",
            "No: 56, Feature: 4, Score: 0.00048\n",
            "No: 57, Feature: 101, Score: 0.00040\n",
            "No: 58, Feature: 69, Score: 0.00031\n",
            "No: 59, Feature: 3, Score: 0.00016\n",
            "No: 60, Feature: 108, Score: 0.00016\n",
            "No: 61, Feature: 109, Score: 0.00015\n",
            "No: 62, Feature: 106, Score: 0.00007\n",
            "No: 63, Feature: 103, Score: 0.00005\n",
            "No: 64, Feature: 120, Score: 0.00004\n",
            "No: 65, Feature: 45, Score: 0.00003\n",
            "No: 66, Feature: 122, Score: 0.00002\n",
            "No: 67, Feature: 141, Score: 0.00002\n",
            "No: 68, Feature: 12, Score: 0.00002\n",
            "No: 69, Feature: 11, Score: 0.00002\n",
            "No: 70, Feature: 59, Score: 0.00001\n",
            "No: 71, Feature: 86, Score: 0.00001\n",
            "No: 72, Feature: 26, Score: 0.00001\n",
            "No: 73, Feature: 13, Score: 0.00001\n",
            "No: 74, Feature: 102, Score: 0.00001\n",
            "No: 75, Feature: 23, Score: 0.00000\n",
            "No: 76, Feature: 17, Score: 0.00000\n",
            "No: 77, Feature: 40, Score: 0.00000\n",
            "No: 78, Feature: 114, Score: 0.00000\n",
            "No: 79, Feature: 83, Score: 0.00000\n",
            "No: 80, Feature: 80, Score: 0.00000\n",
            "No: 81, Feature: 15, Score: 0.00000\n",
            "No: 82, Feature: 81, Score: 0.00000\n",
            "No: 83, Feature: 94, Score: 0.00000\n",
            "No: 84, Feature: 135, Score: 0.00000\n",
            "No: 85, Feature: 85, Score: 0.00000\n",
            "No: 86, Feature: 49, Score: 0.00000\n",
            "No: 87, Feature: 110, Score: 0.00000\n"
          ],
          "name": "stdout"
        },
        {
          "output_type": "display_data",
          "data": {
            "image/png": "[encoded data removed]",
            "text/plain": [
              "<Figure size 432x288 with 1 Axes>"
            ]
          },
          "metadata": {
            "tags": []
          }
        }
      ]
    },
    {
      "cell_type": "markdown",
      "metadata": {
        "id": "dYV_z8jHfWrS"
      },
      "source": [
        "## PCA"
      ]
    },
    {
      "cell_type": "code",
      "metadata": {
        "colab": {
          "base_uri": "https://localhost:8080/",
          "height": 765
        },
        "id": "H_n0txU5iNYk",
        "outputId": "295923ed-b27d-4918-cefa-77ff8d3a647a"
      },
      "source": [
        "#PCA Explained Variance\n",
        "\n",
        "from sklearn.decomposition import PCA\n",
        "import matplotlib.pyplot as plt\n",
        "from sklearn.preprocessing import StandardScaler\n",
        "\n",
        "#PCA is affected by scale and needs to be standardised\n",
        "X_train_combine_standard = StandardScaler().fit_transform(X_train_combine)\n",
        "pca = PCA()\n",
        "\n",
        "pca.fit(X_train_combine_standard)\n",
        "\n",
        "cumsum = np.cumsum(pca.explained_variance_ratio_)\n",
        "\n",
        "print(cumsum)\n",
        "\n",
        "#26 principal components provide explained variance of > 90%\n",
        "\n",
        "plt.plot(cumsum)\n",
        "plt.xlabel('number of components')\n",
        "plt.ylabel('cumulative explained variance')\n",
        "plt.show()"
      ],
      "execution_count": null,
      "outputs": [
        {
          "output_type": "stream",
          "text": [
            "[0.17039717 0.3076333  0.41810437 0.48785473 0.5298352  0.56732996\n",
            " 0.60215226 0.6329306  0.66078251 0.6858658  0.70710483 0.72751268\n",
            " 0.7452687  0.76169443 0.77719737 0.79259546 0.80652195 0.81943207\n",
            " 0.83180511 0.84372715 0.85543895 0.86687983 0.87825837 0.88958141\n",
            " 0.89989513 0.90940187 0.91846304 0.92618853 0.93359688 0.94074414\n",
            " 0.94732887 0.9532644  0.9589127  0.96363109 0.96812531 0.97242489\n",
            " 0.9764271  0.98002516 0.98335029 0.98576867 0.98808932 0.99024669\n",
            " 0.99220126 0.99389986 0.99501864 0.99605486 0.99708262 0.9977915\n",
            " 0.99840192 0.99877552 0.99901716 0.99918657 0.9993448  0.99945615\n",
            " 0.99955716 0.99964689 0.99971465 0.99977928 0.99983593 0.99988452\n",
            " 0.99992075 0.9999512  0.99997294 0.99998665 0.99999375 0.99999764\n",
            " 1.         1.         1.         1.         1.         1.\n",
            " 1.         1.         1.         1.         1.         1.\n",
            " 1.         1.         1.         1.         1.         1.\n",
            " 1.         1.         1.         1.         1.         1.\n",
            " 1.         1.         1.         1.         1.         1.\n",
            " 1.         1.         1.         1.         1.         1.\n",
            " 1.         1.         1.         1.         1.         1.\n",
            " 1.         1.         1.         1.         1.         1.\n",
            " 1.         1.         1.         1.         1.         1.\n",
            " 1.         1.         1.         1.         1.         1.\n",
            " 1.         1.         1.         1.         1.         1.\n",
            " 1.         1.         1.         1.         1.         1.\n",
            " 1.         1.         1.         1.         1.         1.\n",
            " 1.         1.         1.         1.         1.         1.\n",
            " 1.         1.         1.         1.         1.         1.\n",
            " 1.         1.         1.         1.         1.         1.        ]\n"
          ],
          "name": "stdout"
        },
        {
          "output_type": "display_data",
          "data": {
            "image/png": "[encoded data removed]",
            "text/plain": [
              "<Figure size 432x288 with 1 Axes>"
            ]
          },
          "metadata": {
            "tags": []
          }
        }
      ]
    },
    {
      "cell_type": "code",
      "metadata": {
        "id": "5JUyR2vZEZfX"
      },
      "source": [
        "import plotly.express as px\n",
        "from sklearn.decomposition import PCA\n",
        "\n",
        "pca = PCA(n_components=2)\n",
        "components = pca.fit_transform(X_train_combine_standard)\n",
        "\n",
        "fig = px.scatter(components, x=0, y=1, color=Y_train)\n",
        "fig.show()\n"
      ],
      "execution_count": null,
      "outputs": []
    },
    {
      "cell_type": "code",
      "metadata": {
        "id": "jz8j0OZ5GZME"
      },
      "source": [
        "pca = PCA(n_components=3)\n",
        "components = pca.fit_transform(X_train_combine_standard)\n",
        "\n",
        "total_var = pca.explained_variance_ratio_.sum() * 100\n",
        "\n",
        "fig = px.scatter_3d(\n",
        "    components, x=0, y=1, z=2, color=Y_train,\n",
        "    title=f'Total Explained Variance: {total_var:.2f}%',\n",
        "    labels={'0': 'PC 1', '1': 'PC 2', '2': 'PC 3'}\n",
        ")\n",
        "fig.show()"
      ],
      "execution_count": null,
      "outputs": []
    },
    {
      "cell_type": "code",
      "metadata": {
        "colab": {
          "base_uri": "https://localhost:8080/"
        },
        "id": "wzjqUChX9GvO",
        "outputId": "202936d2-cbfe-4ec4-b63e-67ca47b824da"
      },
      "source": [
        "#PCA testing number of components\n",
        "\n",
        "#Comparing feature selection models\n",
        "\n",
        "from sklearn.preprocessing import StandardScaler\n",
        "from sklearn.model_selection import KFold\n",
        "from sklearn.model_selection import cross_val_score\n",
        "from sklearn.pipeline import Pipeline\n",
        "from sklearn.linear_model import LogisticRegression\n",
        "from sklearn.decomposition import PCA\n",
        "from numpy import mean\n",
        "from numpy import std\n",
        "\n",
        "random_state = 7\n",
        "\n",
        "#Pipeline contains standardization, PCA and logistic regression classification\n",
        "def pca_pipe(args):\n",
        "  steps = list()\n",
        "  steps.append(('scaler', args[0]))\n",
        "  steps.append(('selection', args[1]))\n",
        "  steps.append(('classifier', args[2]))\n",
        "  pipeline = Pipeline(steps=steps)\n",
        "  # define the evaluation procedure\n",
        "  kfold = KFold(n_splits=10, shuffle=True, random_state=random_state)\n",
        "  # evaluate the model using cross-validation\n",
        "  scores = cross_val_score(pipeline, X_train, Y_train, scoring='accuracy', cv=kfold, n_jobs=-1)\n",
        "  return scores\n",
        "\n",
        "mod1 = StandardScaler()\n",
        "mod2 = PCA(n_components=20)\n",
        "mod4 = PCA(n_components=10)\n",
        "mod5 = PCA(n_components=30)\n",
        "mod6 = PCA(n_components=5)\n",
        "mod7 = PCA(n_components=15)\n",
        "mod8 = PCA(n_components=25)\n",
        "mod3 = LogisticRegression(solver='liblinear')\n",
        "model1 = (mod1,mod4,mod3)\n",
        "model2 = (mod1,mod2,mod3)\n",
        "model3 = (mod1,mod5,mod3)\n",
        "model4 = (mod1,mod6,mod3)\n",
        "model5 = (mod1,mod7,mod3)\n",
        "model6 = (mod1,mod8,mod3)\n",
        "\n",
        "models = []\n",
        "models.append((\"PCA 5\",model4))\n",
        "models.append((\"PCA 10\",model1))\n",
        "models.append((\"PCA 15\",model5))\n",
        "models.append((\"PCA 20\",model2))\n",
        "models.append((\"PCA 25\",model6))\n",
        "models.append((\"PCA 30\",model3))\n",
        "\n",
        "results = []\n",
        "names = []\n",
        "for name, model in models:\n",
        "  cv_results = pca_pipe(model)\n",
        "  results.append(cv_results)\n",
        "  names.append(name)\n",
        "  msg = \"%s: %f (%f)\" % (name, cv_results.mean(), cv_results.std())\n",
        "  print(msg)"
      ],
      "execution_count": null,
      "outputs": [
        {
          "output_type": "stream",
          "text": [
            "PCA 5: 0.932340 (0.012961)\n",
            "PCA 10: 0.988284 (0.001083)\n",
            "PCA 15: 0.990180 (0.000710)\n",
            "PCA 20: 0.990468 (0.000810)\n",
            "PCA 25: 0.991870 (0.000672)\n",
            "PCA 30: 0.994291 (0.001044)\n"
          ],
          "name": "stdout"
        }
      ]
    },
    {
      "cell_type": "code",
      "metadata": {
        "colab": {
          "base_uri": "https://localhost:8080/",
          "height": 294
        },
        "id": "eYBK9uT7oKX2",
        "outputId": "af97b631-68fb-467e-b3cb-ab869a35c6b8"
      },
      "source": [
        "# boxplot algorithm comparison\n",
        "fig = pyplot.figure()\n",
        "fig.suptitle('PCA Comparison')\n",
        "ax = fig.add_subplot(111)\n",
        "pyplot.boxplot(results)\n",
        "ax.set_xticklabels(names)\n",
        "pyplot.show()"
      ],
      "execution_count": null,
      "outputs": [
        {
          "output_type": "display_data",
          "data": {
            "image/png": "[encoded data removed]",
            "text/plain": [
              "<Figure size 432x288 with 1 Axes>"
            ]
          },
          "metadata": {
            "tags": []
          }
        }
      ]
    },
    {
      "cell_type": "markdown",
      "metadata": {
        "id": "JCcZGZPneCBb"
      },
      "source": [
        "# Supervised Classification Algorithms"
      ]
    },
    {
      "cell_type": "markdown",
      "metadata": {
        "id": "7R9JjPhe8sga"
      },
      "source": [
        "## Quick model comparison"
      ]
    },
    {
      "cell_type": "code",
      "metadata": {
        "colab": {
          "base_uri": "https://localhost:8080/",
          "height": 402
        },
        "id": "kfAaH4kZ6uGm",
        "outputId": "da9a89e4-23fc-4998-d2f0-68bd2845a37d"
      },
      "source": [
        "from matplotlib import pyplot\n",
        "from sklearn.model_selection import KFold\n",
        "from sklearn.model_selection import cross_val_score\n",
        "from sklearn.linear_model import LogisticRegression\n",
        "from sklearn.tree import DecisionTreeClassifier\n",
        "from sklearn.neighbors import KNeighborsClassifier\n",
        "from sklearn.naive_bayes import GaussianNB\n",
        "from sklearn.svm import SVC\n",
        "from sklearn.preprocessing import StandardScaler\n",
        "from sklearn.decomposition import PCA\n",
        "from sklearn.model_selection import KFold\n",
        "from sklearn.model_selection import cross_val_score\n",
        "from sklearn.pipeline import Pipeline\n",
        "import time \n",
        "\n",
        "def model_pipe(model):\n",
        "  steps = list()\n",
        "  steps.append(('scaler', StandardScaler()))\n",
        "  steps.append(('selection', PCA(n_components=5)))\n",
        "  steps.append(('classifier', model))\n",
        "  pipeline = Pipeline(steps=steps)\n",
        "  random_state = 7\n",
        "  # define the evaluation procedure\n",
        "  kfold = KFold(n_splits=10, shuffle=True, random_state=random_state)\n",
        "  # evaluate the model using cross-validation\n",
        "  scores = cross_val_score(pipeline, X_train_combine, Y_train, scoring='accuracy', cv=kfold, n_jobs=-1)\n",
        "  return scores\n",
        "\n",
        "models = []\n",
        "models.append(('LR', LogisticRegression(solver='liblinear')))\n",
        "models.append(('KNN', KNeighborsClassifier()))\n",
        "models.append(('CART', DecisionTreeClassifier()))\n",
        "models.append(('NB', GaussianNB()))\n",
        "models.append(('SVM linear', SVC()))\n",
        "models.append(('SVM RBF', SVC(kernel='rbf')))\n",
        "\n",
        "results = []\n",
        "names = []\n",
        "\n",
        "for name, model in models:\n",
        "  start = time.time()\n",
        "  cv_results = model_pipe(model)\n",
        "  finish = time.time()\n",
        "  training_time = (finish-start)\n",
        "  results.append(cv_results)\n",
        "  names.append(name)\n",
        "  msg = \"%s: %f (%f) time: %s seconds\" % (name, cv_results.mean(), cv_results.std(), training_time)\n",
        "  print(msg)\n",
        "\n",
        "# boxplot algorithm comparison\n",
        "fig = pyplot.figure()\n",
        "fig.suptitle('Algorithm Comparison')\n",
        "ax = fig.add_subplot(111)\n",
        "pyplot.boxplot(results)\n",
        "ax.set_xticklabels(names)\n",
        "pyplot.show()"
      ],
      "execution_count": null,
      "outputs": [
        {
          "output_type": "stream",
          "text": [
            "LR: 0.983574 (0.001411) time: 16.63900327682495 seconds\n",
            "KNN: 0.999423 (0.000161) time: 15.820446968078613 seconds\n",
            "CART: 0.999011 (0.000261) time: 16.172385215759277 seconds\n",
            "NB: 0.876015 (0.003745) time: 12.035104274749756 seconds\n",
            "SVM linear: 0.990025 (0.000901) time: 201.45902299880981 seconds\n",
            "SVM RBF: 0.990035 (0.000901) time: 205.2738709449768 seconds\n"
          ],
          "name": "stdout"
        },
        {
          "output_type": "display_data",
          "data": {
            "image/png": "[encoded data removed]",
            "text/plain": [
              "<Figure size 432x288 with 1 Axes>"
            ]
          },
          "metadata": {
            "tags": [],
            "needs_background": "light"
          }
        }
      ]
    },
    {
      "cell_type": "markdown",
      "metadata": {
        "id": "08vhSPKjt50p"
      },
      "source": [
        "## MLP Classifier"
      ]
    },
    {
      "cell_type": "code",
      "metadata": {
        "colab": {
          "base_uri": "https://localhost:8080/"
        },
        "id": "dFgUsEIvHzFV",
        "outputId": "768590a4-b46c-4258-94a1-e95e1cab3c56"
      },
      "source": [
        "#MLP NN with grid search hyperparams\n",
        "\n",
        "from keras.models import Sequential\n",
        "from keras.layers import Dense\n",
        "from keras.layers import Dropout\n",
        "from keras.wrappers.scikit_learn import KerasClassifier\n",
        "from sklearn.model_selection import GridSearchCV\n",
        "from sklearn.model_selection import KFold\n",
        "from sklearn.pipeline import Pipeline\n",
        "import numpy\n",
        "from sklearn.decomposition import PCA\n",
        "from sklearn.preprocessing import MinMaxScaler\n",
        "# fix random seed for reproducibility\n",
        "numpy.random.seed(7)\n",
        "\n",
        "#compare models with and without dropout\n",
        "\n",
        "#create model\n",
        "def create_model(hidden_size=4, optimizer='rmsprop',init='he_uniform',activation='relu',dropout=0.0):\n",
        "  model = Sequential()\n",
        "  model.add(Dense(5,input_dim=5,kernel_initializer=init,activation=activation))\n",
        "  model.add(Dropout(dropout)) \n",
        "  model.add(Dense(hidden_size,kernel_initializer=init,activation=activation))\n",
        "  model.add(Dropout(dropout))\n",
        "  model.add(Dense(1,kernel_initializer=init,activation='sigmoid'))\n",
        "  #compile model\n",
        "  model.compile(loss='binary_crossentropy',optimizer=optimizer,metrics=['accuracy'])\n",
        "  return model\n",
        "\n",
        "model = KerasClassifier(build_fn=create_model,verbose=0)\n",
        "steps = list()\n",
        "steps.append(('standard', StandardScaler()))\n",
        "steps.append(('selection', PCA(n_components=5)))\n",
        "steps.append(('scaler', MinMaxScaler(feature_range=(0, 1))))\n",
        "steps.append(('classifier', model))\n",
        "pipeline = Pipeline(steps=steps)\n",
        "   \n",
        "param_grid = {\n",
        "    #'classifier__init': ['glorot_uniform','normal','uniform','he_uniform'],\n",
        "    #'classifier__activation': ['relu','tanh'],\n",
        "    'classifier__hidden_size':[4, 3, 2],\n",
        "    'classifier__dropout': [0, 0.2],\n",
        "    'classifier__optimizer':['RMSprop', 'Adam']\n",
        "    #'classifier__epochs': [25, 50],\n",
        "    #'classifier__batch_size':[5, 10, 20]\n",
        "}\n",
        "\n",
        "random_state = 7\n",
        "kfold = KFold(n_splits=10, shuffle=True, random_state=random_state)\n",
        "\n",
        "grid = GridSearchCV(estimator=pipeline,param_grid=param_grid, cv=kfold, n_jobs=-1)\n",
        "\n",
        "grid_result = grid.fit(X_train_combine,Y_train)\n",
        "\n",
        "#summarize results\n",
        "print(\"Best: %f using %s\" % (grid_result.best_score_,grid_result.best_params_))\n",
        "means = grid_result.cv_results_['mean_test_score']\n",
        "stds = grid_result.cv_results_['std_test_score']\n",
        "params = grid_result.cv_results_['params']\n",
        "for mean, stdev, param in zip(means,stds,params):\n",
        "  print(\"%f (%f) with: %r\" % (mean,stdev,param))\n"
      ],
      "execution_count": null,
      "outputs": [
        {
          "output_type": "stream",
          "text": [
            "Best: 0.971858 using {'classifier__dropout': 0.2, 'classifier__hidden_size': 4, 'classifier__optimizer': 'Adam'}\n",
            "0.971611 (0.001535) with: {'classifier__dropout': 0, 'classifier__hidden_size': 4, 'classifier__optimizer': 'RMSprop'}\n",
            "0.964820 (0.020515) with: {'classifier__dropout': 0, 'classifier__hidden_size': 4, 'classifier__optimizer': 'Adam'}\n",
            "0.912228 (0.141146) with: {'classifier__dropout': 0, 'classifier__hidden_size': 3, 'classifier__optimizer': 'RMSprop'}\n",
            "0.924610 (0.141633) with: {'classifier__dropout': 0, 'classifier__hidden_size': 3, 'classifier__optimizer': 'Adam'}\n",
            "0.916401 (0.137309) with: {'classifier__dropout': 0, 'classifier__hidden_size': 2, 'classifier__optimizer': 'RMSprop'}\n",
            "0.921276 (0.142581) with: {'classifier__dropout': 0, 'classifier__hidden_size': 2, 'classifier__optimizer': 'Adam'}\n",
            "0.960349 (0.022645) with: {'classifier__dropout': 0.2, 'classifier__hidden_size': 4, 'classifier__optimizer': 'RMSprop'}\n",
            "0.971858 (0.002249) with: {'classifier__dropout': 0.2, 'classifier__hidden_size': 4, 'classifier__optimizer': 'Adam'}\n",
            "0.829447 (0.213935) with: {'classifier__dropout': 0.2, 'classifier__hidden_size': 3, 'classifier__optimizer': 'RMSprop'}\n",
            "0.971219 (0.005461) with: {'classifier__dropout': 0.2, 'classifier__hidden_size': 3, 'classifier__optimizer': 'Adam'}\n",
            "0.875104 (0.188464) with: {'classifier__dropout': 0.2, 'classifier__hidden_size': 2, 'classifier__optimizer': 'RMSprop'}\n",
            "0.875624 (0.188083) with: {'classifier__dropout': 0.2, 'classifier__hidden_size': 2, 'classifier__optimizer': 'Adam'}\n"
          ],
          "name": "stdout"
        }
      ]
    },
    {
      "cell_type": "markdown",
      "metadata": {
        "id": "sgg1heq7uHp3"
      },
      "source": [
        "# Evaluate\n",
        "Choose metrics\n",
        "seaborn library for visualisation"
      ]
    },
    {
      "cell_type": "code",
      "metadata": {
        "colab": {
          "base_uri": "https://localhost:8080/",
          "height": 1000
        },
        "id": "-0po-O_xCb19",
        "outputId": "990c2533-972e-4075-d3c5-37f5eb189bc1"
      },
      "source": [
        "from numpy.random import seed\n",
        "seed(7)\n",
        "from sklearn.metrics import classification_report\n",
        "from sklearn.metrics import confusion_matrix\n",
        "from sklearn.neighbors import KNeighborsClassifier\n",
        "from keras.models import Sequential\n",
        "from keras.models import Model\n",
        "from keras.layers import Dropout\n",
        "from keras.layers import Dense, Input\n",
        "from keras.wrappers.scikit_learn import KerasClassifier\n",
        "from sklearn.decomposition import PCA\n",
        "import matplotlib.pyplot as plt\n",
        "import pandas as pd\n",
        "import numpy as np\n",
        "from __future__ import print_function\n",
        "from keras.models import Model\n",
        "from keras.layers import Dense, Input\n",
        "from keras.regularizers import l1\n",
        "from keras.optimizers import Adam\n",
        "from keras.wrappers.scikit_learn import KerasRegressor\n",
        "from sklearn.svm import SVC\n",
        "import time\n",
        "\n",
        "def select_features(X,extracted_features,PCA_components=5):\n",
        "  X_combine =  pd.concat([pd.DataFrame(X), extracted_features], axis=1) \n",
        "  X_combine_standard = standardise(X_combine)\n",
        "  print(\"standardised combined features\")\n",
        "  pca = PCA(n_components=PCA_components)\n",
        "  X_PCA = pca.fit_transform(X_combine_standard)\n",
        "  return X_PCA\n",
        "\n",
        "def best_ann(hidden_size=4, optimizer='adam',init='he_uniform',dropout=0.2):\n",
        "  model = Sequential()\n",
        "  model.add(Dense(5,input_dim=5,kernel_initializer=init,activation='relu'))\n",
        "  model.add(Dropout(dropout))\n",
        "  model.add(Dense(hidden_size,kernel_initializer=init,activation='relu'))\n",
        "  model.add(Dropout(dropout))\n",
        "  model.add(Dense(1,kernel_initializer=init,activation='sigmoid'))\n",
        "  model.compile(loss='binary_crossentropy',optimizer=optimizer,metrics=['accuracy'])  \n",
        "  return model\n",
        "\n",
        "def knn_test(X_train_PCA, Y_train, X_test_PCA, Y_test):\n",
        "  X_train_PCA_standard = standardise(X_train_PCA)\n",
        "  X_test_PCA_standard = standardise(X_test_PCA)\n",
        "  start = time.time()\n",
        "  knnmodel = KNeighborsClassifier()\n",
        "  knnmodel.fit(X_train_PCA_standard,Y_train)\n",
        "  Y_knn_pred = knnmodel.predict(X_test_PCA_standard)\n",
        "  finish = time.time()\n",
        "  time_taken = finish-start\n",
        "  report = classification_report(Y_test, Y_knn_pred)\n",
        "  matrix = confusion_matrix(Y_test, Y_knn_pred)\n",
        "  print(\"KNN Classification Report\")\n",
        "  return report, matrix, time_taken\n",
        "\n",
        "def svm_test(X_train_PCA, Y_train, X_test_PCA, Y_test):\n",
        "  X_train_PCA_standard = standardise(X_train_PCA)\n",
        "  X_test_PCA_standard = standardise(X_test_PCA)\n",
        "  start = time.time()\n",
        "  svmmodel = SVC()\n",
        "  svmmodel.fit(X_train_PCA_standard,Y_train)\n",
        "  \n",
        "  Y_svm_pred = svmmodel.predict(X_test_PCA_standard)\n",
        "  finish = time.time()\n",
        "  time_taken = finish-start\n",
        "  report = classification_report(Y_test, Y_svm_pred)\n",
        "  matrix = confusion_matrix(Y_test, Y_svm_pred)\n",
        "  print(\"SVM Classification Report\")\n",
        "  return report, matrix, time_taken\n",
        "\n",
        "def ann_test(X_train_PCA, Y_train, X_test_PCA, Y_test):\n",
        "  X_train_PCA_scaled = scalar(X_train_PCA)\n",
        "  X_test_PCA_scaled = scalar(X_test_PCA)\n",
        "  start = time.time()\n",
        "  ann_model = best_ann()\n",
        "  ann_history = ann_model.fit(X_train_PCA_scaled, Y_train, epochs=100, batch_size=20, validation_split = 0.2,verbose=0)\n",
        "  print(\"ANN trained\")\n",
        "  Y_pred = (ann_model.predict(X_test_PCA_scaled) > 0.5).astype(\"int32\")\n",
        "  finish = time.time()\n",
        "  time_taken = finish-start\n",
        "\n",
        "  plt.plot(ann_history.history['accuracy'])\n",
        "  plt.plot(ann_history.history['val_accuracy'])\n",
        "  plt.title('ANN accuracy')\n",
        "  plt.ylabel('accuracy')\n",
        "  plt.xlabel('epoch')\n",
        "  plt.legend(['train', 'test'], loc='upper left')\n",
        "  plt.show()  \n",
        "  report = classification_report(Y_test, Y_pred)\n",
        "  matrix = confusion_matrix(Y_test, Y_pred)\n",
        "  print(\"ANN Classification Report\")\n",
        "  return report, matrix, time_taken\n",
        "\n",
        "def main():\n",
        "  X_train, Y_train = import_data('/content/train_imperson_without4n7_balanced_data.csv')\n",
        "  X_train_scaled = scalar(X_train)\n",
        "\n",
        "  activation='relu'\n",
        "  code_size = 10\n",
        "  hidden_size = 100\n",
        "  input_size = 152 #number of variables\n",
        "  epochs = 5\n",
        "  batch_size = 10\n",
        "  kernel_initializer='he_uniform'\n",
        "\n",
        "  input_layer = Input(shape=(input_size,))\n",
        "  hidden_1 = Dense(hidden_size, activation=activation, kernel_initializer=kernel_initializer, activity_regularizer=l1(0.001))(input_layer)\n",
        "  code = Dense(code_size, activation=activation,kernel_initializer=kernel_initializer, activity_regularizer=l1(0.001))(hidden_1)\n",
        "  hidden_2 = Dense(hidden_size, activation=activation,kernel_initializer=kernel_initializer, activity_regularizer=l1(0.001))(code)\n",
        "  output_layer = Dense(input_size, activation='sigmoid')(hidden_2)\n",
        "\n",
        "  autoencoder_regularized = Model(input_layer, output_layer)\n",
        "  autoencoder_regularized.compile(optimizer='adam',loss='mean_squared_error') #other optimizer and loss function\n",
        "  history_regularized = autoencoder_regularized.fit(X_train_scaled, X_train_scaled, epochs=epochs, batch_size = batch_size, validation_split = 0.2, verbose = 0)\n",
        "\n",
        "  plt.plot(history_regularized.history['loss'])\n",
        "  plt.plot(history_regularized.history['val_loss'])\n",
        "  plt.title('Autoencoder loss')\n",
        "  plt.ylabel('loss')\n",
        "  plt.xlabel('epoch')\n",
        "  plt.legend(['train', 'test'], loc='upper left')\n",
        "  plt.show()\n",
        "\n",
        "  encoder_regularized = Model(input_layer, code)\n",
        "\n",
        "  X_train_ae_features = pd.DataFrame(encoder_regularized.predict(X_train_scaled))\n",
        "  print(\"predicted X train features\")\n",
        "  \n",
        "  X_train_PCA = select_features(X_train, X_train_ae_features)\n",
        "\n",
        "  X_test, Y_test = import_data('/content/test_imperson_without4n7_balanced_data.csv')\n",
        "  X_test_scaled = scalar(X_test)\n",
        "  X_test_ae_features = pd.DataFrame(encoder_regularized.predict(X_test_scaled))\n",
        "  print(\"predicted X test features\")\n",
        "  X_test_PCA = select_features(X_test, X_test_ae_features)\n",
        "\n",
        "  knn_report, knn_matrix, knn_time = knn_test(X_train_PCA, Y_train, X_test_PCA, Y_test)\n",
        "  print(knn_report)\n",
        "  print(knn_matrix)\n",
        "  print('Time taken: %.2f seconds' % knn_time)\n",
        "  \n",
        "  ann_report, ann_matrix, ann_time = ann_test(X_train_PCA, Y_train, X_test_PCA, Y_test)\n",
        "  print(ann_report)\n",
        "  print(ann_matrix)\n",
        "  print('Time taken: %.2f seconds' % ann_time)\n",
        "\n",
        "  svm_report, svm_matrix, svm_time = svm_test(X_train_PCA, Y_train, X_test_PCA, Y_test)\n",
        "  print(svm_report)\n",
        "  print(svm_matrix)\n",
        "  print('Time taken: %.2f seconds' % svm_time)\n",
        "\n",
        "\n",
        "if __name__ == \"__main__\":\n",
        "    main()"
      ],
      "execution_count": null,
      "outputs": [
        {
          "output_type": "display_data",
          "data": {
            "image/png": "[encoded data removed]",
            "text/plain": [
              "<Figure size 432x288 with 1 Axes>"
            ]
          },
          "metadata": {
            "tags": [],
            "needs_background": "light"
          }
        },
        {
          "output_type": "stream",
          "text": [
            "predicted X train features\n",
            "standardised combined features\n",
            "predicted X test features\n",
            "standardised combined features\n",
            "Test labels\n",
            "[0. 0. 0. 0. 0.]\n",
            "prediction labels\n",
            "[0. 0. 0. 1. 0.]\n",
            "KNN Classification Report\n",
            "              precision    recall  f1-score   support\n",
            "\n",
            "         0.0       0.39      0.64      0.48     20079\n",
            "         1.0       0.00      0.00      0.00     20079\n",
            "\n",
            "    accuracy                           0.32     40158\n",
            "   macro avg       0.20      0.32      0.24     40158\n",
            "weighted avg       0.20      0.32      0.24     40158\n",
            "\n",
            "[[12824  7255]\n",
            " [20074     5]]\n",
            "Time taken: 3.05 seconds\n",
            "ANN trained\n"
          ],
          "name": "stdout"
        },
        {
          "output_type": "display_data",
          "data": {
            "image/png": "[encoded data removed]",
            "text/plain": [
              "<Figure size 432x288 with 1 Axes>"
            ]
          },
          "metadata": {
            "tags": [],
            "needs_background": "light"
          }
        },
        {
          "output_type": "stream",
          "text": [
            "ANN Classification Report\n",
            "              precision    recall  f1-score   support\n",
            "\n",
            "         0.0       0.36      0.04      0.07     20079\n",
            "         1.0       0.49      0.93      0.64     20079\n",
            "\n",
            "    accuracy                           0.48     40158\n",
            "   macro avg       0.43      0.48      0.36     40158\n",
            "weighted avg       0.43      0.48      0.36     40158\n",
            "\n",
            "[[  838 19241]\n",
            " [ 1468 18611]]\n",
            "Time taken: 395.97 seconds\n",
            "SVM Classification Report\n",
            "              precision    recall  f1-score   support\n",
            "\n",
            "         0.0       0.37      0.58      0.45     20079\n",
            "         1.0       0.00      0.00      0.00     20079\n",
            "\n",
            "    accuracy                           0.29     40158\n",
            "   macro avg       0.18      0.29      0.22     40158\n",
            "weighted avg       0.18      0.29      0.22     40158\n",
            "\n",
            "[[11629  8450]\n",
            " [20078     1]]\n",
            "Time taken: 39.93 seconds\n"
          ],
          "name": "stdout"
        }
      ]
    }
  ]
}